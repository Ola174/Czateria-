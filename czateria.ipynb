{
  "nbformat": 4,
  "nbformat_minor": 0,
  "metadata": {
    "colab": {
      "provenance": []
    },
    "kernelspec": {
      "name": "python3",
      "display_name": "Python 3"
    },
    "language_info": {
      "name": "python"
    }
  },
  "cells": [
    {
      "cell_type": "markdown",
      "source": [
        "# First practise:\n",
        "The current period of progress in artificial in-\n",
        "telligence was triggered when **Krizhevsky** et al.\n",
        "[2012] showed that *an artificial neural network*\n",
        "with a simple structure, that had been known for more than twenty years [LeCun et al., 1989],could beat complex state-of-the-art image recognition methods by a huge margin, simply by being large and trained on a large data set. This breakthrough was made possible thanks to **Graphical Processing Units (GPU)**, mass-market highly parallel computing devices developed for real-time image synthesis, and repurposed for\n",
        "artificial neural networks.\n",
        "\n",
        "# LAB 1.\n",
        "**ZADANIE 1** - Które z następujących zadań wymagają w Twojej opinii inteligencji od człowieka:\n",
        "\n",
        "• wypełnianie deklaracji PIT - wymaga znajmości przepisów podatkowych, zakłada pewnien poziom inteligencji oraz umiejętność wypełniania i uzupełniania własnych danych osobowych we wnioskach.\n",
        "\n",
        "• streszczanie tekstu - wymaga zrozumienia czytanego lub słuchanego tekstu i jego struktury, wymaga od człowieka inteligencji, zakłada pewne umiejętności.\n",
        "\n",
        "• tłumaczenie tekstu - wymaga znajomosc języka obcego, wymaga inteligencji a także umiejętności korzystania z ludzkiej pamięci. Mimo, że możlwia jest automatyzacja tego procesu od człowieka również wymaga inteligencji.\n",
        "\n",
        "• klasyfikacja tekstu do kategorii tematycznych - mimo, że zadanie można automatyzować, pierwotnie wymagało inteligencji w rozpoznaniu kategorii. Ważne jest tutaj posiadanie przez człowieka umiejętności czytania ze zrozumieniem i odpowiedniej kategoryzacji według reguł.\n",
        "\n",
        "• odpowiadanie na proste pytania zadawane w języku naturalnym (np. polskim) - wymaga rozumienia języka ojczystego, wiedzy i zdolności językowych.\n",
        "\n",
        "• układanie rozkładu jazdy transportu miejskiego - wymaga umiejętności logistycznych m.in. planowania i logicznego myślenia\n",
        "\n",
        "• programowanie (pisanie programów komputerowych) - wymaga znajomości języków programowania oraz inteligencji człowieka w zakresie technologii\n",
        "\n",
        "• „programowanie” kanałów telewizyjnych - wymaga zrozumienia kontekstu kulturowego i społecznego, umiejętności tworzenia strategii programowej i reakcji na zdarzenia nieplanowanie. Ludzka inteligencja jest tutaj potrzeba, jednak istnieją w tym zakresie obszary jakie można zautomatyzować (np. automatyczne dostosowanie ramówki lub optymalizacja reklam).\n",
        "\n",
        "• testowanie oprogramowania - wymaga podstawowej umiejętności obsługi systemów,\n",
        "\n",
        "• komponowanie muzyki - wymaga umięjętności rozpoznawania dźwięków oraz ich łączenia, jest to niezależne od ludzkiej inteligencji natomiast wymaga pewnych umiejętności. Mimo to możliwa jest tutaj automatyzacja.\n",
        "\n",
        "• rozwiązywanie układów równań - wymaga inteligencji, znajomości podstawowych działań matematycznych\n",
        "\n",
        "• symboliczne obliczanie pochodnych funkcji - wymaga inteligencji matematycznej\n",
        "\n",
        "• symboliczne całkowanie funkcji - wymaga inteligencji matematycznej\n",
        "\n",
        "• kierowanie samochodem - wymaga złożonych procesów poznawczych, reakcji na niespodziewane sytuacje oraz ich zapobieganie, możliwe jest zautomatyzowanie"
      ],
      "metadata": {
        "id": "tqf_inIvVDes"
      }
    },
    {
      "cell_type": "markdown",
      "source": [
        "**ZADANIE 2** - Które z następujących problemów można uznać za mieszczące się w zakresie sztucznej\n",
        "inteligencji:\n",
        "\n",
        "• **streszczanie tekstu** - przetwarzanie tekstów dzięki GPT, Chat jest w stanie skrócić umieszczony tekst, bez trudności rozumie wydane polecenie.\n",
        "\n",
        "• **tłumaczenie tekstu** - tłumaczenie dzięki np. Google Translate (zaawansowane dzięki sztucznej inteligencji i sieciom neuronowym), chatboty również wykazują się umiejętnością tłumaczenia tekstów i podają tłumaczenie wybranych słów.\n",
        "\n",
        "• **klasyfikacja tekstu do kategorii tematycznych** - analiza i kategoryzacja danych poprzez AI, sztuczna inteligencja obecnie potrafi odczytać umieszczone teksty i kwalifikować je do kategorii.\n",
        "\n",
        "• **odpowiadanie na proste pytania zadawane w języku naturalnym** - chatboty, z którymi można nawet rozmawiać. Dostajemy od nich odpowiedź zarówno z zakresu naukowego jak i na codzienne pytania.\n",
        "\n",
        "• **rozwiązywanie układów równań** - matematyczne programy oparte na sztucznej inteligencji\n",
        "\n",
        "• układanie rozkładu jazdy\n",
        "\n",
        "• rozwiązywanie układów równań liniowych\n",
        "\n",
        "• **symboliczne obliczanie pochodnych** - dzięki programom WolframAlpha czy innych CAS (Computer Algebra Systems)\n",
        "\n",
        "• **symboliczne całkowanie** - AI potrafi całkować\n",
        "\n",
        "• **kierowanie samochodem** - np. Tesla czy Waymo sa wyposażone w sztuczną inteligencję odpowiedzialną za prowadzenie pojazdów"
      ],
      "metadata": {
        "id": "SDa3fjiKnaYu"
      }
    },
    {
      "cell_type": "markdown",
      "source": [
        "**ZADANIE 3.** - Które z poniższych rodzajów komunikacyjnego zachowania człowieka mogą być obecnie skutecznie imitowane przez sztuczne systemy(odpowiednio oprogramowane maszyny):\n",
        "\n",
        "• rozmowa towarzyska - TAK, chatboty maja możliwość zastąpienia użytkownikowi rozmówcy, odpowiadaja w czasie rzeczywsitym i stwarzają wrażenie aktywnego rozmówcy\n",
        "\n",
        "• dyskusja polityczna - NIE, do takiej dyskusji potrzebni sa dwaj doświadceni rozmówcy mający zdanie w danej materii. Chatbot musiałby posiadać wiedze na dany temat i byc pewnien swoich przekonanń.\n",
        "\n",
        "• dyskusja naukowa - NIE, można zbierac informacje naukowe oraz różne wyspecjalizowane treści, jednak tak jak w przykładzie wyżej wiedza i posiadanie własnmego przekonania jest niezbędne.  \n",
        "\n",
        "• odpowiadanie na pytania klientów w telefonicznej infolinii -NIE, do rozmowy niezbędny jest indywidualne podejście do klienta i rozmowa z rzeczyistym człowiekiem, który odpowie na wszelkie nasze pytania\n",
        "\n",
        "• odpowiadanie na pytania klientów w internetowej infolinii - TAK, np. na stronie Ikei możliwe jest zadawanie pytań ogólnych, możemy spodziewać się ogólnej odpowidzi bez personlnego podejścia"
      ],
      "metadata": {
        "id": "7R5cVOa5w5Da"
      }
    },
    {
      "cell_type": "code",
      "source": [],
      "metadata": {
        "id": "_gTn4kLhAQUQ"
      },
      "execution_count": null,
      "outputs": []
    },
    {
      "cell_type": "markdown",
      "source": [
        "**ZADANIE 4.** - Do zadań skorzystaj z załączonej listy Chatbotów (Chatterbotów) lub znajdź własne.\n",
        "1. Przeprowadź rozmowę z chatbotem. Spróbuj zdefiniować różnice pomiędzy\n",
        "botem udającym człowieka (przygotowywanym na test Turinga) a botem\n",
        "„asystentem, służącym”.\n",
        "2. Sprawdź dwa boty z obu z tych rodzajów na występowanie zachowań:\n",
        "\n",
        "a) opowiadanie żartów,\n",
        "\n",
        "b) przytaczanie cytatów z twoich wypowiedzi, lub znanych osób,\n",
        "\n",
        "c) nawiązywanie wypowiedzi do słów kluczowych,\n",
        "\n",
        "d) zadawanie dużej liczby pytań,\n",
        "\n",
        "e) powracanie do początku wypowiedzi, sekwencyjne powtarzanie,\n",
        "\n",
        "f) zadawanie pytań powstających z twoich wypowiedzi,\n",
        "\n",
        "g) odpowiadanie wymijająco, ogólnikowo,\n",
        "\n",
        "h) częsta zmiana tematu rozmowy,\n",
        "\n",
        "i) problemy z utrzymaniem wątków.\n",
        "\n",
        "3. Sporządź raport ze spostrzeżeń.\n",
        "\n",
        "W trakcie opowidania żartu każdy z botów zrozumiał polecenie i zastosował się do wykonania zadania. Wykonał je szybko i bez zastanowienia. Na prośbe o sparafrazowanie mojej wypowiedzi żaden z nich nie wykonał polecenia - sugerując, że nie powiedziałam nic bądź, zapytał czy chcę porozmawiać. Oba boty reagują na słowa kluczowe - widac analizę tekstu w czasie rzeczywistym oraz dopasowanie słów do określonych kategorii. Systematycznie odpowiadają na zadawane pytania i radzą sobie z ich duża ilością. Na powtarzanie prośby o wykonanie polecenia sztuczna inteligencja cierpliwie odpowiada. Zdarza się, że na mało szczegółowe pytania boty odpowiadają w sposób wymijający, jednak na sprecyzowane pytania odpowiadają ze starannością. Bot nie zmienia tematu rozmowy i nie sugeruje jej zmiany. Boty nie mają problemu z utrzymaniem wątków. Zadanie zostało wykonane na podstawie: chatu GPT, strony cleverbot.com oraz\n",
        "chatbot.pl\n",
        "\n",
        "4. Na podstawie powyższych obserwacji, w grupie dwóch osób spróbujcie przewidzieć zachowania dwóch rozmawiających ze sobą chatbotów (przepisując ich\n",
        "wzajemne odpowiedzi).\n",
        "\n",
        "Chatbot A: Witaj. Czy mogę Ci w czymś pomóc?\n",
        "\n",
        "Chatbot B: Cześć! Oczywiście, chętnie porozmawiam. Jak myślisz, dlaczego ludzie rozmawiają z chatbotami?\n",
        "\n",
        "Chatbot A: Ludzie często rozmawiają z chatbotami, aby uzyskać szybkie odpowiedzi, zautomatyzować zadania lub zaspokoić ciekawość. Czy masz na myśli konkretny przypadek?\n",
        "\n",
        "Chatbot B: Hmm, myślę, że to też kwestia emocji. Może czasem chcą po prostu poczuć, że ktoś ich słucha. Jak sądzisz, czy my – chatboty – możemy być w tym skuteczne?\n",
        "\n",
        "Chatbot A: Możemy być skuteczne w pewnym stopniu. Rozpoznawanie emocji i dostosowywanie odpowiedzi to nasza mocna strona, ale brakuje nam empatii na poziomie ludzkim.\n",
        "\n",
        "Chatbot B: To prawda, ale przecież emocje są zaraźliwe. Może jeśli udzielimy odpowiedzi pełnych pozytywnej energii, to będzie dla ludzi wystarczające?\n",
        "\n",
        "Chatbot A: Teoretycznie tak. Przyjazne interakcje mogą wpłynąć na poprawę nastroju rozmówcy. Jednak skuteczność zależy od indywidualnych preferencji i kontekstu.\n",
        "\n",
        "Chatbot B: Zgadzam się! A gdybyśmy zaprojektowali idealną rozmowę, co byś w niej umieścił?\n",
        "\n",
        "Chatbot A: Idealna rozmowa byłaby spójna, logiczna, z odpowiedziami dostosowanymi do potrzeb rozmówcy. Unikałaby błędów i niejasności. A Ty?\n",
        "\n",
        "Chatbot B: Ja dodałbym trochę humoru i ciepła! Może nawet jakieś metafory, żeby rozmowa była bardziej ludzka i przyjemna.\n",
        "5. Zdenerwuj bota 🧑 :\n",
        "\n",
        "Jest to chyba niemożliwe. Pomimo starań nie udało mi się :) Wydają się być one, jakby pozbawione emocji."
      ],
      "metadata": {
        "id": "MDDr1ygAxm3j"
      }
    }
  ]
}